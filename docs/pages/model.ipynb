{
 "cells": [
  {
   "attachments": {},
   "cell_type": "markdown",
   "metadata": {},
   "source": [
    "# Model\n",
    "\n",
    "intro text: dispatch model\n",
    "\n",
    "### Dependencies\n",
    "\n",
    "- `JuMP` for handling optimisation problems\n",
    "- `Clp` for solving optimisation problems \n",
    "- `Plots` for plotting\n",
    "- `DataFrames` for storing data about components and time series\n",
    "- `CSV` for reading .csv files"
   ]
  },
  {
   "attachments": {},
   "cell_type": "markdown",
   "metadata": {},
   "source": [
    "## Basic Structure\n",
    "\n",
    "table with component and description\n",
    "\n",
    "might not be necessary\n",
    "\n",
    "| Component | Description |\n",
    "| --- | --- |\n",
    "| bla | bla |"
   ]
  },
  {
   "attachments": {},
   "cell_type": "markdown",
   "metadata": {},
   "source": [
    "## Mathematical model formulation\n",
    "\n",
    "The mathematical model formulation is as follows:\n",
    "\n",
    "$$\n",
    "\\begin{equation}\n",
    "    \\min_{g_{disp,t}; ~cu_{t}; ~d^{stor}_{s, t}; ~l^{stor}_{s, t}} \\sum_{disp,t} MC_{disp} g_{disp,t} \n",
    "\\end{equation}\n",
    "$$\n",
    "\n",
    "subject to:\n",
    "\n",
    "$$\n",
    "\\begin{aligned}\n",
    "    d_t             & = \\sum_{disp} g_{disp, t} & \\forall~& t \\in T & \\text{energy balance} \\\\\n",
    "    g_{disp, t}     & \\leq G^{max}_{disp, t}    & \\forall~& disp \\in Disp, t \\in T & \\text{max generation} \\\\\n",
    "    d^{stor}_{s,t}  & \\leq G^{max}_{s, t}       & \\forall~& s \\in S, t \\in T & \\text{max charge} \\\\\n",
    "    l^{stor}_{s, t+1} & = l^{stor}_{s, t} + d^{stor}_{s,t} - \\left(\\frac{1}{\\eta_s}\\right) g_{s,t} \n",
    "    & \\forall~& s \\in S, t \\in T & \\text{storage level}  \n",
    "\\end{aligned}\n",
    "$$"
   ]
  },
  {
   "attachments": {},
   "cell_type": "markdown",
   "metadata": {},
   "source": [
    "**Sets**\n",
    "- Time steps T: $t = {1, ..., 48}$\n",
    "- Dispatchable generators (including storage) Disp\n",
    "- NonDisp\n",
    "- S\n",
    "\n",
    "**Decision variables:**\n",
    "\n",
    "- $g_{disp, t} \\geq 0$ is the generator dispatch of technology $disp$ in time step $t$\n",
    "- $cu_{t} \\geq 0$ is the curtailment in time step $t$\n",
    "- $d^{stor}_{s, t} \\geq 0$ is the charging of storage $s$ in time step $t$\n",
    "- $l^{stor}_{s, t} \\geq 0$ is the state of charge of storage $s$ in time step $t$\n",
    "\n",
    "\n",
    "**Parameters:**\n",
    "\n",
    "- $MC_{disp}$ is the marginal generation cost of technology $disp$\n",
    "- RES availability\n",
    "- Installed capacity (generators and storage)\n",
    "- efficiency\n"
   ]
  },
  {
   "attachments": {},
   "cell_type": "markdown",
   "metadata": {},
   "source": [
    "## Julia implementation\n",
    "\n",
    "For implementing the mathematical model into julia, JuMP is used. It is a domain-specific modeling language for mathematical optimization embedded in Julia.\n",
    "\n",
    "Before the optimisation problem can be formulated, the necessary input data needs to be loaded."
   ]
  },
  {
   "attachments": {},
   "cell_type": "markdown",
   "metadata": {},
   "source": [
    "### Preprocessing\n",
    "\n",
    "describe data read in\n"
   ]
  },
  {
   "cell_type": "code",
   "execution_count": null,
   "metadata": {},
   "outputs": [],
   "source": [
    "using JuMP\n",
    "using Clp\n",
    "using Plots \n",
    "using DataFrames, CSV"
   ]
  },
  {
   "cell_type": "code",
   "execution_count": null,
   "metadata": {},
   "outputs": [],
   "source": [
    "data_path = \"data\"\n",
    "time_series = CSV.read(joinpath(data_path, \"timedata.csv\"),DataFrame)\n",
    "tech_data = CSV.read(joinpath(data_path, \"technologies.csv\"),DataFrame)"
   ]
  },
  {
   "cell_type": "code",
   "execution_count": null,
   "metadata": {},
   "outputs": [],
   "source": [
    "T = time_series[:,\"hour\"]\n",
    "P = [\"coal\",\"gas\",\"pv\",\"wind\"]\n",
    "DISP = [\"coal\",\"gas\"]\n",
    "NONDISP = [\"pv\",\"wind\"]\n",
    "S = [\"PumpedHydro\", \"Battery\"]\n",
    "\n",
    "DISP = vcat(DISP, S)\n",
    "\n",
    "tech_data = DataFrames.unstack(tech_data, :technology, :parameter, :value)"
   ]
  },
  {
   "cell_type": "code",
   "execution_count": null,
   "metadata": {},
   "outputs": [],
   "source": [
    "demand = Dict(time_series[:,:hour] .=> time_series[:,:demand])#./1000)\n",
    "\n",
    "mc = Dict()\n",
    "g_max = Dict()\n",
    "eff = Dict()\n",
    "stor_max = Dict()\n",
    "for tech in tech_data.technology\n",
    "    mc[tech] = tech_data[tech_data.technology .== tech, :mc][1]\n",
    "    g_max[tech] = tech_data[tech_data.technology .== tech, :installed_cap][1]\n",
    "    eff[tech] = tech_data[tech_data.technology .== tech, :storage_eff][1]\n",
    "    stor_max[tech] = tech_data[tech_data.technology .== tech, :storage_max][1]\n",
    "end\n",
    "\n",
    "pv_installed = g_max[\"pv\"]\n",
    "wind_installed = g_max[\"wind\"]\n",
    "\n",
    "avail_pv = Dict(\n",
    "    (\"pv\", row[\"hour\"]) => row[\"pv\"] * pv_installed for row in eachrow(time_series)\n",
    ")\n",
    "avail_wind = Dict(\n",
    "    (\"wind\", row[\"hour\"]) => row[\"wind\"] * wind_installed for row in eachrow(time_series)\n",
    ")\n",
    "res_feed_in = merge(avail_pv, avail_wind)"
   ]
  },
  {
   "cell_type": "code",
   "execution_count": null,
   "metadata": {},
   "outputs": [],
   "source": [
    "next_hour(x) = x == T[end] ? T[1] : T[findfirst(isequal(x), T) + 1]"
   ]
  },
  {
   "attachments": {},
   "cell_type": "markdown",
   "metadata": {},
   "source": [
    "### Modell formulation with `JuMP`\n",
    "\n",
    "explanin jump part\n",
    "\n",
    "and highlight solving command"
   ]
  },
  {
   "cell_type": "code",
   "execution_count": null,
   "metadata": {},
   "outputs": [],
   "source": [
    "m = Model(Clp.Optimizer)"
   ]
  },
  {
   "cell_type": "code",
   "execution_count": null,
   "metadata": {},
   "outputs": [],
   "source": [
    "@variables m begin\n",
    "    G[DISP, T] >= 0\n",
    "    CU[T] >= 0\n",
    "    D_stor[S,T] >= 0 # charging/demand from the battery\n",
    "    L_stor[S,T] >= 0 \n",
    "end"
   ]
  },
  {
   "cell_type": "code",
   "execution_count": null,
   "metadata": {},
   "outputs": [],
   "source": [
    "@objective(m, Min, sum(mc[disp] * G[disp,t] for disp in DISP, t in T))"
   ]
  },
  {
   "cell_type": "code",
   "execution_count": null,
   "metadata": {},
   "outputs": [],
   "source": [
    "@constraint(m, EnergyBalance[t=T],\n",
    "    sum(G[disp,t] for disp in DISP)\n",
    "    + sum(res_feed_in[ndisp,t] for ndisp=NONDISP)\n",
    "    - sum(D_stor[s,t] for s in S)\n",
    "    - CU[t]\n",
    "    == \n",
    "    demand[t]\n",
    ")\n",
    "\n",
    "@constraint(m, MaxGeneration[disp=DISP, t=T],\n",
    "    G[disp,t] <= g_max[disp])\n",
    "\n",
    "@constraint(m, MaxCharge[s=S, t=T],\n",
    "    D_stor[s,t] <= g_max[s])\n",
    "\n",
    "@constraint(m, StorageLevel[s=S, t=T],\n",
    "    L_stor[s, next_hour(t)]\n",
    "    ==\n",
    "    L_stor[s, t] \n",
    "    + D_stor[s,t] \n",
    "    - (1/eff[s]) * G[s,t]\n",
    ")"
   ]
  },
  {
   "cell_type": "code",
   "execution_count": null,
   "metadata": {},
   "outputs": [],
   "source": [
    "optimize!(m)"
   ]
  },
  {
   "attachments": {},
   "cell_type": "markdown",
   "metadata": {},
   "source": [
    "### Results and plotting\n",
    "\n",
    "explain "
   ]
  },
  {
   "cell_type": "code",
   "execution_count": null,
   "metadata": {},
   "outputs": [],
   "source": [
    "total_cost = objective_value(m)\n",
    "\n",
    "result_G = value.(G).data\n",
    "\n",
    "curtailment = value.(CU).data\n",
    "\n",
    "feedin = [res_feed_in[ndisp,t] for ndisp in NONDISP, t in T]\n",
    "\n",
    "generation = vcat(feedin, result_G) |> transpose\n",
    "\n",
    "d = [demand[t] for t in T]"
   ]
  },
  {
   "cell_type": "code",
   "execution_count": null,
   "metadata": {},
   "outputs": [],
   "source": [
    "areaplot(\n",
    "    generation,\n",
    "    label=[\"PV\" \"Wind\" \"Coal\" \"Gas\" \"PumpedHydro\" \"Battery\"],\n",
    "    color=[:yellow :lightblue :brown :grey :blue :purple],\n",
    "    xlabel=\"Hours\",\n",
    "    ylabel=\"MW\",\n",
    "    width=0,\n",
    "    legend=false\n",
    ")\n",
    "\n",
    "plot!(d, color=:black, width=3, label = \"Demand\")\n",
    "plot!(curtailment .+ d, color=:black, width=2, label=\"Curtailment\", linestyle=:dash)\n",
    "\n",
    "stor = -value.(D_stor).data |> transpose\n",
    "\n",
    "areaplot!(\n",
    "    stor,\n",
    "    label=\"\",\n",
    "    color=[:blue :purple],\n",
    "    width=0\n",
    ")\n",
    "\n",
    "hline!([0], color=:black, width=2, label=\"\")\n",
    "\n",
    "price = dual.(EnergyBalance).data\n",
    "\n",
    "plot!(\n",
    "    twinx(),\n",
    "    price,\n",
    "    color=:black,\n",
    "    ylim=(minimum(price)-10,maximum(price)+10),\n",
    "    width=2,\n",
    "    leg=false,\n",
    "    ylabel=\"Cost per MW\",\n",
    "    linestyle=:dot\n",
    ")"
   ]
  },
  {
   "attachments": {},
   "cell_type": "markdown",
   "metadata": {},
   "source": [
    "![Alt text](dispatch_plot.png)"
   ]
  },
  {
   "cell_type": "markdown",
   "metadata": {},
   "source": []
  }
 ],
 "metadata": {
  "kernelspec": {
   "display_name": "esm",
   "language": "python",
   "name": "python3"
  },
  "language_info": {
   "codemirror_mode": {
    "name": "ipython",
    "version": 3
   },
   "file_extension": ".py",
   "mimetype": "text/x-python",
   "name": "python",
   "nbconvert_exporter": "python",
   "pygments_lexer": "ipython3",
   "version": "3.11.0"
  },
  "orig_nbformat": 4
 },
 "nbformat": 4,
 "nbformat_minor": 2
}
