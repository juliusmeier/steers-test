{
 "cells": [
  {
   "attachments": {},
   "cell_type": "markdown",
   "metadata": {},
   "source": [
    "# Mathematical Model and Implementation\n",
    "\n",
    "A minimal model that optimises the dispatch is presented here. \n",
    "\n",
    "### Dependencies\n",
    "\n",
    "- `JuMP` for handling optimisation problems\n",
    "- `Clp` for solving optimisation problems \n",
    "- `Plots` for plotting\n",
    "- `DataFrames` for storing data about components and time series\n",
    "- `CSV` for reading .csv files"
   ]
  },
  {
   "attachments": {},
   "cell_type": "markdown",
   "metadata": {},
   "source": [
    "## Basic Structure\n",
    "\n",
    "The model includes generators and storage as well as a demand.\n",
    "\n",
    "| Component | Description |\n",
    "| --- | --- |\n",
    "| Generators | Dispatchable: 1 coal power plant, 1 gas power plant <br /> Non-dispatchable: 1 solar pv, 1 wind |\n",
    "| Storage units | 1 Pumped Hydro, 1 Battery |"
   ]
  },
  {
   "attachments": {},
   "cell_type": "markdown",
   "metadata": {},
   "source": [
    "## Mathematical model formulation\n",
    "\n",
    "The mathematical model formulation is as follows:\n",
    "\n",
    "$$\n",
    "\\begin{equation}\n",
    "    \\min_{g_{disp,t}; ~cu_{t}; ~d^{stor}_{s, t}; ~l^{stor}_{s, t}} \\sum_{disp,t} MC_{disp} g_{disp,t} \n",
    "\\end{equation}\n",
    "$$\n",
    "\n",
    "subject to:\n",
    "\n",
    "$$\n",
    "\\begin{aligned}\n",
    "    d_t             & = \\sum_{disp} g_{disp, t} & \\forall~& t \\in T & \\text{energy balance} \\\\\n",
    "    g_{disp, t}     & \\leq G^{max}_{disp, t}    & \\forall~& disp \\in Disp, t \\in T & \\text{max generation} \\\\\n",
    "    d^{stor}_{s,t}  & \\leq G^{max}_{s, t}       & \\forall~& s \\in S, t \\in T & \\text{max charge} \\\\\n",
    "    l^{stor}_{s, t+1} & = l^{stor}_{s, t} + d^{stor}_{s,t} - \\left(\\frac{1}{\\eta_s}\\right) g_{s,t} \n",
    "    & \\forall~& s \\in S, t \\in T & \\text{storage level}  \n",
    "\\end{aligned}\n",
    "$$"
   ]
  },
  {
   "attachments": {},
   "cell_type": "markdown",
   "metadata": {},
   "source": [
    "**Sets**\n",
    "- Time steps T: $t = {1, ..., 48}$\n",
    "- Dispatchable generators (including storage units) Disp: $disp = {\\text{coal, gas, pumped hydro, battery}}$\n",
    "- Non-dispatchable generators NonDisp : $ndisp = {\\text{pv, wind}}$\n",
    "- Storage units S : $s = {\\text{pumped hydro, battery}}$\n",
    "\n",
    "**Decision variables:**\n",
    "\n",
    "- $g_{disp, t} \\geq 0$ is the generator dispatch of technology $disp$ in time step $t$\n",
    "- $cu_{t} \\geq 0$ is the curtailment in time step $t$\n",
    "- $d^{stor}_{s, t} \\geq 0$ is the charging of storage $s$ in time step $t$\n",
    "- $l^{stor}_{s, t} \\geq 0$ is the state of charge of storage $s$ in time step $t$\n",
    "\n",
    "\n",
    "**Parameters:**\n",
    "\n",
    "- $MC_{disp}$ is the marginal generation cost of technology $disp$\n",
    "- RES availability\n",
    "- Installed capacity (generators and storage)\n",
    "- efficiency\n"
   ]
  },
  {
   "attachments": {},
   "cell_type": "markdown",
   "metadata": {},
   "source": [
    "## Julia implementation\n",
    "\n",
    "For implementing the mathematical model into julia, JuMP is used. It is a modeling language for mathematical optimization embedded in Julia.\n",
    "\n",
    "Before the optimisation problem can be formulated, the necessary input data needs to be loaded."
   ]
  },
  {
   "attachments": {},
   "cell_type": "markdown",
   "metadata": {},
   "source": [
    "### Preprocessing\n",
    "\n"
   ]
  },
  {
   "cell_type": "code",
   "execution_count": 1,
   "metadata": {},
   "outputs": [],
   "source": [
    "using JuMP\n",
    "using Clp\n",
    "using Plots \n",
    "using DataFrames, CSV"
   ]
  },
  {
   "cell_type": "code",
   "execution_count": null,
   "metadata": {},
   "outputs": [],
   "source": [
    "data_path = \"data\"\n",
    "time_series = CSV.read(joinpath(data_path, \"timedata.csv\"),DataFrame)\n",
    "tech_data = CSV.read(joinpath(data_path, \"technologies.csv\"),DataFrame)"
   ]
  },
  {
   "cell_type": "code",
   "execution_count": null,
   "metadata": {},
   "outputs": [],
   "source": [
    "T = time_series[:,\"hour\"]\n",
    "P = [\"coal\",\"gas\",\"pv\",\"wind\"]\n",
    "DISP = [\"coal\",\"gas\"]\n",
    "NONDISP = [\"pv\",\"wind\"]\n",
    "S = [\"PumpedHydro\", \"Battery\"]\n",
    "\n",
    "DISP = vcat(DISP, S)\n",
    "\n",
    "tech_data = DataFrames.unstack(tech_data, :technology, :parameter, :value)"
   ]
  },
  {
   "cell_type": "code",
   "execution_count": null,
   "metadata": {},
   "outputs": [],
   "source": [
    "demand = Dict(time_series[:,:hour] .=> time_series[:,:demand])\n",
    "\n",
    "mc = Dict()\n",
    "g_max = Dict()\n",
    "eff = Dict()\n",
    "stor_max = Dict()\n",
    "for tech in tech_data.technology\n",
    "    mc[tech] = tech_data[tech_data.technology .== tech, :mc][1]\n",
    "    g_max[tech] = tech_data[tech_data.technology .== tech, :installed_cap][1]\n",
    "    eff[tech] = tech_data[tech_data.technology .== tech, :storage_eff][1]\n",
    "    stor_max[tech] = tech_data[tech_data.technology .== tech, :storage_max][1]\n",
    "end\n",
    "\n",
    "pv_installed = g_max[\"pv\"]\n",
    "wind_installed = g_max[\"wind\"]\n",
    "\n",
    "avail_pv = Dict(\n",
    "    (\"pv\", row[\"hour\"]) => row[\"pv\"] * pv_installed for row in eachrow(time_series)\n",
    ")\n",
    "avail_wind = Dict(\n",
    "    (\"wind\", row[\"hour\"]) => row[\"wind\"] * wind_installed for row in eachrow(time_series)\n",
    ")\n",
    "res_feed_in = merge(avail_pv, avail_wind)"
   ]
  },
  {
   "cell_type": "code",
   "execution_count": null,
   "metadata": {},
   "outputs": [],
   "source": [
    "next_hour(x) = x == T[end] ? T[1] : T[findfirst(isequal(x), T) + 1]"
   ]
  },
  {
   "attachments": {},
   "cell_type": "markdown",
   "metadata": {},
   "source": [
    "### Modell formulation with `JuMP`\n",
    "\n",
    "The JuMP package is used to implement the mathematical model. First, a new JuMp model is initiated and a solver is chosen. Here, the open-source solver Clp is applied. Variables are created and added to the model. Subsequently, the objective function and the constraints are implemented. With the command `optimize!(m)` the model is solved. "
   ]
  },
  {
   "cell_type": "code",
   "execution_count": null,
   "metadata": {},
   "outputs": [],
   "source": [
    "m = Model(Clp.Optimizer)"
   ]
  },
  {
   "cell_type": "code",
   "execution_count": null,
   "metadata": {},
   "outputs": [],
   "source": [
    "@variables m begin\n",
    "    G[DISP, T] >= 0\n",
    "    CU[T] >= 0\n",
    "    D_stor[S,T] >= 0 # charging/demand from the battery\n",
    "    L_stor[S,T] >= 0 \n",
    "end"
   ]
  },
  {
   "cell_type": "code",
   "execution_count": null,
   "metadata": {},
   "outputs": [],
   "source": [
    "@objective(m, Min, sum(mc[disp] * G[disp,t] for disp in DISP, t in T))"
   ]
  },
  {
   "cell_type": "code",
   "execution_count": null,
   "metadata": {},
   "outputs": [],
   "source": [
    "@constraint(m, EnergyBalance[t=T],\n",
    "    sum(G[disp,t] for disp in DISP)\n",
    "    + sum(res_feed_in[ndisp,t] for ndisp=NONDISP)\n",
    "    - sum(D_stor[s,t] for s in S)\n",
    "    - CU[t]\n",
    "    == \n",
    "    demand[t]\n",
    ")\n",
    "\n",
    "@constraint(m, MaxGeneration[disp=DISP, t=T],\n",
    "    G[disp,t] <= g_max[disp])\n",
    "\n",
    "@constraint(m, MaxCharge[s=S, t=T],\n",
    "    D_stor[s,t] <= g_max[s])\n",
    "\n",
    "@constraint(m, StorageLevel[s=S, t=T],\n",
    "    L_stor[s, next_hour(t)]\n",
    "    ==\n",
    "    L_stor[s, t] \n",
    "    + D_stor[s,t] \n",
    "    - (1/eff[s]) * G[s,t]\n",
    ")"
   ]
  },
  {
   "cell_type": "code",
   "execution_count": null,
   "metadata": {},
   "outputs": [],
   "source": [
    "optimize!(m)"
   ]
  },
  {
   "attachments": {},
   "cell_type": "markdown",
   "metadata": {},
   "source": [
    "### Results and plotting\n",
    "\n",
    "In the postprocessing part, the results of the model are extracted and plotted."
   ]
  },
  {
   "cell_type": "code",
   "execution_count": null,
   "metadata": {},
   "outputs": [],
   "source": [
    "total_cost = objective_value(m)\n",
    "\n",
    "result_G = value.(G).data\n",
    "\n",
    "curtailment = value.(CU).data\n",
    "\n",
    "feedin = [res_feed_in[ndisp,t] for ndisp in NONDISP, t in T]\n",
    "\n",
    "generation = vcat(feedin, result_G) |> transpose\n",
    "\n",
    "d = [demand[t] for t in T]"
   ]
  },
  {
   "attachments": {},
   "cell_type": "markdown",
   "metadata": {},
   "source": [
    "The results are used to plot the dispatch with the following code."
   ]
  },
  {
   "cell_type": "code",
   "execution_count": null,
   "metadata": {},
   "outputs": [],
   "source": [
    "areaplot(\n",
    "    generation,\n",
    "    label=[\"PV\" \"Wind\" \"Coal\" \"Gas\" \"PumpedHydro\" \"Battery\"],\n",
    "    color=[:yellow :lightblue :brown :grey :blue :purple],\n",
    "    xlabel=\"Hours\",\n",
    "    ylabel=\"MW\",\n",
    "    width=0,\n",
    "    legend=false\n",
    ")\n",
    "\n",
    "plot!(d, color=:black, width=3, label = \"Demand\")\n",
    "plot!(curtailment .+ d, color=:black, width=2, label=\"Curtailment\", linestyle=:dash)\n",
    "\n",
    "stor = -value.(D_stor).data |> transpose\n",
    "\n",
    "areaplot!(\n",
    "    stor,\n",
    "    label=\"\",\n",
    "    color=[:blue :purple],\n",
    "    width=0\n",
    ")\n",
    "\n",
    "hline!([0], color=:black, width=2, label=\"\")\n",
    "\n",
    "price = dual.(EnergyBalance).data\n",
    "\n",
    "plot!(\n",
    "    twinx(),\n",
    "    price,\n",
    "    color=:black,\n",
    "    ylim=(minimum(price)-10,maximum(price)+10),\n",
    "    width=2,\n",
    "    leg=false,\n",
    "    ylabel=\"Cost per MW\",\n",
    "    linestyle=:dot\n",
    ")"
   ]
  },
  {
   "attachments": {},
   "cell_type": "markdown",
   "metadata": {},
   "source": [
    "The code above yields this dispatch plot."
   ]
  },
  {
   "attachments": {},
   "cell_type": "markdown",
   "metadata": {},
   "source": [
    "![Dispatch Plot](dispatch_plot.png)"
   ]
  },
  {
   "attachments": {},
   "cell_type": "markdown",
   "metadata": {},
   "source": []
  }
 ],
 "metadata": {
  "kernelspec": {
   "display_name": "Julia 1.8.5",
   "language": "julia",
   "name": "julia-1.8"
  },
  "language_info": {
   "file_extension": ".jl",
   "mimetype": "application/julia",
   "name": "julia",
   "version": "1.8.5"
  },
  "orig_nbformat": 4
 },
 "nbformat": 4,
 "nbformat_minor": 2
}
