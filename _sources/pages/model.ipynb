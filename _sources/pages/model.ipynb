{
 "cells": [
  {
   "attachments": {},
   "cell_type": "markdown",
   "metadata": {},
   "source": [
    "# Model\n",
    "\n",
    "intro text: dispatch model\n",
    "\n",
    "### Dependencies\n",
    "\n",
    "- `JuMP` for handling optimisation problems\n",
    "- `Clp` for solving optimisation problems \n",
    "- `Plots` for plotting\n",
    "- `DataFrames` for storing data about components and time series\n",
    "- `CSV` for reading .csv files"
   ]
  },
  {
   "attachments": {},
   "cell_type": "markdown",
   "metadata": {},
   "source": [
    "## Basic Structure\n",
    "\n",
    "table with component and description\n",
    "\n",
    "might not be necessary\n",
    "\n",
    "| Component | Description |\n",
    "| --- | --- |\n",
    "| bla | bla |"
   ]
  },
  {
   "attachments": {},
   "cell_type": "markdown",
   "metadata": {},
   "source": [
    "## Mathematical model formulation\n",
    "\n",
    "The mathematical model formulation is as follows:\n",
    "\n",
    "\\begin{equation}\n",
    "    \\min_{g_{disp,t}; ~cu_{t}; ~d^{stor}_{s, t}; ~l^{stor}_{s, t}} \\sum_{disp,t} MC_{disp} g_{disp,t} \n",
    "\\end{equation}\n",
    "\n",
    "subject to:\n",
    "\n",
    "\\begin{aligned}\n",
    "    d_t             & = \\sum_{disp} g_{disp, t} & \\forall~& t \\in T & \\text{energy balance} \\\\\n",
    "    g_{disp, t}     & \\leq G^{max}_{disp, t}    & \\forall~& disp \\in Disp, t \\in T & \\text{max generation} \\\\\n",
    "    d^{stor}_{s,t}  & \\leq G^{max}_{s, t}       & \\forall~& s \\in S, t \\in T & \\text{max charge} \\\\\n",
    "    l^{stor}_{s, t+1} & = l^{stor}_{s, t} + d^{stor}_{s,t} - \\left(\\frac{1}{\\eta_s}\\right) g_{s,t} \n",
    "    & \\forall~& s \\in S, t \\in T & \\text{storage level}  \n",
    "\\end{aligned}\n",
    "\n",
    "**Sets**\n",
    "- T\n",
    "- P (not necessary)\n",
    "- Disp\n",
    "- NonDisp\n",
    "- S\n",
    "\n",
    "**Decision variables:**\n",
    "\n",
    "- $g_{disp, t} \\geq 0$ is the generator dispatch of technology $disp$ in time step $t$\n",
    "- $cu_{t} \\geq 0$ is the curtailment in time step $t$\n",
    "- $d^{stor}_{s, t} \\geq 0$ is the charging of storage $s$ in time step $t$\n",
    "- $l^{stor}_{s, t} \\geq 0$ is the state of charge of storage $s$ in time step $t$\n",
    "\n",
    "\n",
    "**Parameters:**\n",
    "\n",
    "- $MC_{disp}$ is the marginal generation cost of technology $disp$\n",
    "- RES availability\n",
    "- Installed capacity (generators and storage)\n",
    "- efficiency\n"
   ]
  },
  {
   "attachments": {},
   "cell_type": "markdown",
   "metadata": {},
   "source": [
    "## Julia implementation\n",
    "\n",
    "For implementing the mathematical model into julia, JuMP is used. It is a domain-specific modeling language for mathematical optimization embedded in Julia.\n",
    "\n",
    "Before the optimisation problem can be formulated, the necessary input data needs to be loaded."
   ]
  },
  {
   "attachments": {},
   "cell_type": "markdown",
   "metadata": {},
   "source": [
    "### Preprocessing\n",
    "\n",
    "describe data read in\n"
   ]
  },
  {
   "attachments": {},
   "cell_type": "markdown",
   "metadata": {},
   "source": [
    "### Modell formulation with `JuMP`\n",
    "\n",
    "explanin jump part\n",
    "\n",
    "and highlight solving command"
   ]
  },
  {
   "attachments": {},
   "cell_type": "markdown",
   "metadata": {},
   "source": [
    "### Results and plotting\n",
    "\n",
    "explain "
   ]
  }
 ],
 "metadata": {
  "language_info": {
   "name": "python"
  },
  "orig_nbformat": 4
 },
 "nbformat": 4,
 "nbformat_minor": 2
}
